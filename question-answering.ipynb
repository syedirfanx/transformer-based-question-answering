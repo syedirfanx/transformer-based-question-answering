{
 "cells": [
  {
   "cell_type": "markdown",
   "id": "f38f4971",
   "metadata": {},
   "source": [
    "# Transformer Based Question Answering\n",
    "One of the popular applications of Natural Language Processing (NLP) is Question Answering. In this work I have used Transformer library to build a QA system. Transformers is an open-source library developed by Hugging Face that provides a wide range of pre-trained models such as BERT, DistilBERT for QA. \n",
    "BERT (Bidirectional Encoder Representations from Transformers) is a pre-trained transformer-based neural network model for natural language processing developed by Google AI Language. DistilBERT is a light Transformer model trained by distilling BERT base."
   ]
  },
  {
   "cell_type": "markdown",
   "id": "78194132",
   "metadata": {},
   "source": [
    "## Import"
   ]
  },
  {
   "cell_type": "code",
   "execution_count": 47,
   "id": "efecbaaa",
   "metadata": {},
   "outputs": [],
   "source": [
    "from transformers import pipeline"
   ]
  },
  {
   "cell_type": "markdown",
   "id": "823da088",
   "metadata": {},
   "source": [
    "## DistilBERT Model\n",
    "Load a pre-trained DistilBERT model from the Hugging Face model hub"
   ]
  },
  {
   "cell_type": "code",
   "execution_count": 48,
   "id": "3e7088d1",
   "metadata": {},
   "outputs": [],
   "source": [
    "qa = pipeline(\"question-answering\", model=\"distilbert-base-cased-distilled-squad\", tokenizer=\"distilbert-base-cased\")"
   ]
  },
  {
   "cell_type": "markdown",
   "id": "3c891cd4",
   "metadata": {},
   "source": [
    "## Context"
   ]
  },
  {
   "cell_type": "code",
   "execution_count": 49,
   "id": "c5adc3bf",
   "metadata": {},
   "outputs": [],
   "source": [
    "context = \"\"\"It was a dark and stormy night. The old mansion on the hill loomed ominously, with its broken windows and overgrown vines. Inside, the air was musty and cold, and the only light came from flickering candles. As I made my way through the dusty halls, I couldn't shake the feeling that I was being watched. Suddenly, I heard a creaking sound behind me. I turned around to see a ghostly figure staring back at me with hollow eyes.\n",
    "\"\"\""
   ]
  },
  {
   "cell_type": "markdown",
   "id": "e2361643",
   "metadata": {},
   "source": [
    "## Generate answers from questions\n",
    "Using the ''qa'' pipeline to answer questions on a given context"
   ]
  },
  {
   "cell_type": "code",
   "execution_count": 50,
   "id": "3d80de63",
   "metadata": {},
   "outputs": [],
   "source": [
    "question = 'What was the weather like on the night of the story?'\n",
    "question1 = \"How was the ghost look like?\"\n",
    "question2 = \"How was the feeling while walking through the dusty halls?\"\n",
    "\n",
    "answer = qa(question=question, context=context)['answer']\n",
    "answer1 = qa(question=question1, context=context)['answer']\n",
    "answer2 = qa(question=question2, context=context)['answer']"
   ]
  },
  {
   "cell_type": "code",
   "execution_count": 51,
   "id": "abf6bb82",
   "metadata": {},
   "outputs": [
    {
     "name": "stdout",
     "output_type": "stream",
     "text": [
      "Context:\n",
      " It was a dark and stormy night. The old mansion on the hill loomed ominously, with its broken windows and overgrown vines. Inside, the air was musty and cold, and the only light came from flickering candles. As I made my way through the dusty halls, I couldn't shake the feeling that I was being watched. Suddenly, I heard a creaking sound behind me. I turned around to see a ghostly figure staring back at me with hollow eyes.\n",
      "\n",
      "\n",
      "Question 1:\n",
      " What was the weather like on the night of the story?\n",
      "Answer 1:\n",
      " dark and stormy\n",
      "\n",
      "Question 2:\n",
      " How was the ghost look like?\n",
      "Answer 2:\n",
      " hollow eyes\n",
      "\n",
      "Question 3:\n",
      " How was the feeling while walking through the dusty halls?\n",
      "Answer 3:\n",
      " I couldn't shake the feeling that I was being watched\n"
     ]
    }
   ],
   "source": [
    "print('Context:\\n',context)\n",
    "print('\\nQuestion 1:\\n', question)\n",
    "print('Answer 1:\\n', answer)\n",
    "print('\\nQuestion 2:\\n', question1)\n",
    "print('Answer 2:\\n', answer1)\n",
    "print('\\nQuestion 3:\\n', question2)\n",
    "print('Answer 3:\\n', answer2)"
   ]
  },
  {
   "cell_type": "markdown",
   "id": "778d3484",
   "metadata": {},
   "source": [
    "## Import"
   ]
  },
  {
   "cell_type": "code",
   "execution_count": 52,
   "id": "0407982e",
   "metadata": {},
   "outputs": [],
   "source": [
    "import torch\n",
    "import torchvision"
   ]
  },
  {
   "cell_type": "markdown",
   "id": "b3339737",
   "metadata": {},
   "source": [
    "## BERT Model\n",
    "Load the pre-trained BERT model and tokenizer"
   ]
  },
  {
   "cell_type": "code",
   "execution_count": 53,
   "id": "2ff1b06c",
   "metadata": {},
   "outputs": [],
   "source": [
    "from transformers import AutoTokenizer, AutoModelForQuestionAnswering\n",
    "\n",
    "tokenizer = AutoTokenizer.from_pretrained(\"bert-large-uncased-whole-word-masking-finetuned-squad\")\n",
    "model = AutoModelForQuestionAnswering.from_pretrained(\"bert-large-uncased-whole-word-masking-finetuned-squad\", return_dict=False )\n"
   ]
  },
  {
   "cell_type": "markdown",
   "id": "7d063185",
   "metadata": {},
   "source": [
    "Provide the context and question"
   ]
  },
  {
   "cell_type": "code",
   "execution_count": 54,
   "id": "da5142fd",
   "metadata": {},
   "outputs": [],
   "source": [
    "context = \"\"\"It was a dark and stormy night. The old mansion on the hill loomed ominously, with its broken windows and overgrown vines. Inside, the air was musty and cold, and the only light came from flickering candles. As I made my way through the dusty halls, I couldn't shake the feeling that I was being watched. Suddenly, I heard a creaking sound behind me. I turned around to see a ghostly figure staring back at me with hollow eyes.\n",
    "\"\"\"\n",
    "question = \"How was the feeling while walking through the dusty halls?\""
   ]
  },
  {
   "cell_type": "markdown",
   "id": "6879b357",
   "metadata": {},
   "source": [
    "## Tokenization\n",
    "Tokenize the inputs and encode them"
   ]
  },
  {
   "cell_type": "code",
   "execution_count": 55,
   "id": "b62ac632",
   "metadata": {},
   "outputs": [],
   "source": [
    "inputs = tokenizer.encode_plus(question, context, add_special_tokens=True, return_tensors=\"pt\")"
   ]
  },
  {
   "cell_type": "markdown",
   "id": "41cb9504",
   "metadata": {},
   "source": [
    "## Get Answer using Scores\n",
    "Find the start and end positions of the answer using scores:"
   ]
  },
  {
   "cell_type": "code",
   "execution_count": 56,
   "id": "850e93b8",
   "metadata": {},
   "outputs": [],
   "source": [
    "start_scores, end_scores = model(**inputs)"
   ]
  },
  {
   "cell_type": "code",
   "execution_count": 57,
   "id": "b3f3607b",
   "metadata": {},
   "outputs": [],
   "source": [
    "start_index = torch.argmax(start_scores)\n",
    "end_index = torch.argmax(end_scores)\n",
    "\n",
    "answer_tokens = inputs[\"input_ids\"][0][start_index:end_index+1]\n",
    "answer_tokens = tokenizer.convert_ids_to_tokens(answer_tokens, skip_special_tokens=True)\n",
    "answer = tokenizer.convert_tokens_to_string(answer_tokens)"
   ]
  },
  {
   "cell_type": "code",
   "execution_count": 58,
   "id": "26d5509c",
   "metadata": {},
   "outputs": [
    {
     "name": "stdout",
     "output_type": "stream",
     "text": [
      "i was being watched\n"
     ]
    }
   ],
   "source": [
    "print(answer)"
   ]
  }
 ],
 "metadata": {
  "kernelspec": {
   "display_name": "Python 3 (ipykernel)",
   "language": "python",
   "name": "python3"
  },
  "language_info": {
   "codemirror_mode": {
    "name": "ipython",
    "version": 3
   },
   "file_extension": ".py",
   "mimetype": "text/x-python",
   "name": "python",
   "nbconvert_exporter": "python",
   "pygments_lexer": "ipython3",
   "version": "3.9.12"
  }
 },
 "nbformat": 4,
 "nbformat_minor": 5
}
